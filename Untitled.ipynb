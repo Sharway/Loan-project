{
 "cells": [
  {
   "cell_type": "code",
   "execution_count": null,
   "id": "1e6b4cb1-41b7-49cd-9ec5-a67c26ec23c5",
   "metadata": {},
   "outputs": [],
   "source": []
  }
 ],
 "metadata": {
  "kernelspec": {
   "display_name": "Python 3 (ipykernel)",
   "language": "python",
   "name": "python3"
  },
  "language_info": {
   "name": ""
  }
 },
 "nbformat": 4,
 "nbformat_minor": 5
}
